{
 "cells": [
  {
   "cell_type": "code",
   "execution_count": 4,
   "id": "8a3d131a",
   "metadata": {},
   "outputs": [],
   "source": [
    "import os"
   ]
  },
  {
   "cell_type": "code",
   "execution_count": 7,
   "id": "3ccb9779",
   "metadata": {},
   "outputs": [],
   "source": [
    "from dotenv import load_dotenv\n",
    "from langchain_groq import ChatGroq\n",
    "from langchain.tools import  tool\n",
    "\n",
    "load_dotenv()\n",
    "api = os.getenv(\"GROQ_API_KEY\")"
   ]
  },
  {
   "cell_type": "code",
   "execution_count": 6,
   "id": "2f289706",
   "metadata": {},
   "outputs": [
    {
     "data": {
      "text/plain": [
       "AIMessage(content='<think>\\n\\n</think>\\n\\nHello! How can I assist you today? 😊', additional_kwargs={}, response_metadata={'token_usage': {'completion_tokens': 16, 'prompt_tokens': 4, 'total_tokens': 20, 'completion_time': 0.088718633, 'prompt_time': 5.9429e-05, 'queue_time': 0.053878712, 'total_time': 0.088778062}, 'model_name': 'deepseek-r1-distill-llama-70b', 'system_fingerprint': 'fp_76307ac09b', 'finish_reason': 'stop', 'logprobs': None}, id='run--50630fd8-ae08-4d36-a636-6ea5ce3d2aca-0', usage_metadata={'input_tokens': 4, 'output_tokens': 16, 'total_tokens': 20})"
      ]
     },
     "execution_count": 6,
     "metadata": {},
     "output_type": "execute_result"
    }
   ],
   "source": [
    "llm = ChatGroq(model='deepseek-r1-distill-llama-70b', api_key=api)\n",
    "llm.invoke(\"hi\")"
   ]
  },
  {
   "cell_type": "code",
   "execution_count": 8,
   "id": "b24a8d09",
   "metadata": {},
   "outputs": [],
   "source": [
    "@tool\n",
    "def multiply(a:int, b:int) -> int:\n",
    "    \"\"\"\n",
    "    Multiply two integers\n",
    "\n",
    "    Args:\n",
    "        a(int): The first integer\n",
    "        b(int): The second integer\n",
    "\n",
    "    Returns:\n",
    "        int: The product of a and b\n",
    "    \"\"\"\n",
    "    return a*b\n",
    "    "
   ]
  },
  {
   "cell_type": "code",
   "execution_count": 9,
   "id": "8a6c9787",
   "metadata": {},
   "outputs": [
    {
     "data": {
      "text/plain": [
       "StructuredTool(name='multiply', description='Multiply two integers\\n\\nArgs:\\n    a(int): The first integer\\n    b(int): The second integer\\n\\nReturns:\\n    int: The product of a and b', args_schema=<class 'langchain_core.utils.pydantic.multiply'>, func=<function multiply at 0x000001EBBAC8ECA0>)"
      ]
     },
     "execution_count": 9,
     "metadata": {},
     "output_type": "execute_result"
    }
   ],
   "source": [
    "multiply"
   ]
  },
  {
   "cell_type": "code",
   "execution_count": null,
   "id": "29e6add5",
   "metadata": {},
   "outputs": [],
   "source": [
    "from langchain.tools import StructuredTool"
   ]
  },
  {
   "cell_type": "code",
   "execution_count": 10,
   "id": "cc0e4f19",
   "metadata": {},
   "outputs": [],
   "source": [
    "def get_weather(city:str) -> str:\n",
    "    \"\"\"\n",
    "    Get the weather for a given city\n",
    "\n",
    "    Args:\n",
    "        city(str): the name of the city\n",
    "    Returns:\n",
    "        str: A string describing the weather in the city\n",
    "    \"\"\"\n",
    "\n",
    "    return f\"The weather in {city} is sunny.\""
   ]
  },
  {
   "cell_type": "code",
   "execution_count": null,
   "id": "c71da6d3",
   "metadata": {},
   "outputs": [],
   "source": [
    "from pydantic import BaseModel, Field\n",
    "class WeatherInput(BaseModel):\n",
    "    city:str\n"
   ]
  },
  {
   "cell_type": "code",
   "execution_count": null,
   "id": "1909ca6a",
   "metadata": {},
   "outputs": [],
   "source": [
    "weather_tool = StructuredTool.from_function(\n",
    "    func=get_weather,\n",
    "    name=\"get_weather\",\n",
    "    description=\"fetches real-time weather data for a city\",\n",
    "    args_schema=WeatherInput \n",
    ")"
   ]
  },
  {
   "cell_type": "code",
   "execution_count": null,
   "id": "3c885c00",
   "metadata": {},
   "outputs": [],
   "source": [
    "\n",
    "def get_weather(city:str) -> str:\n",
    "    \"\"\"\n",
    "    Get the weather for a given city\n",
    "\n",
    "    Args:\n",
    "        city(str): the name of the city\n",
    "    Returns:\n",
    "        str: A string describing the weather in the city\n",
    "    \"\"\"\n",
    "\n",
    "    return f\"The weather in {city} is sunny.\"\n",
    "\n",
    "class WeatherInput(BaseModel):\n",
    "    city:str = Field(..., description=\"City Name\")\n",
    "    units:str = Field(\"metric\", description=\"metric or imperial\")\n",
    "\n",
    "\n",
    "class GetWeatherTool(StructuredTool):\n",
    "    name: ClassVar[str] = \"get_weather\"\n",
    "    description: ClassVar[str] = (\"Fetches the weather data for a city\")\n",
    "\n",
    "    args_schema: ClassVar[Type[BaseModel]] = WeatherInput\n",
    "\n",
    "    def _run(self, city:str, units:str=\"metric\") -> str:\n",
    "        return get_weather(city, units)"
   ]
  }
 ],
 "metadata": {
  "kernelspec": {
   "display_name": "myenv",
   "language": "python",
   "name": "python3"
  },
  "language_info": {
   "codemirror_mode": {
    "name": "ipython",
    "version": 3
   },
   "file_extension": ".py",
   "mimetype": "text/x-python",
   "name": "python",
   "nbconvert_exporter": "python",
   "pygments_lexer": "ipython3",
   "version": "3.12.3"
  }
 },
 "nbformat": 4,
 "nbformat_minor": 5
}
